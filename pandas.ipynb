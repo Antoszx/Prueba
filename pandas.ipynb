{
  "nbformat": 4,
  "nbformat_minor": 0,
  "metadata": {
    "kernelspec": {
      "display_name": "Python 3",
      "language": "python",
      "name": "python3"
    },
    "language_info": {
      "codemirror_mode": {
        "name": "ipython",
        "version": 3
      },
      "file_extension": ".py",
      "mimetype": "text/x-python",
      "name": "python",
      "nbconvert_exporter": "python",
      "pygments_lexer": "ipython3",
      "version": "3.8.5"
    },
    "colab": {
      "name": "pandas.ipynb",
      "provenance": [],
      "include_colab_link": true
    }
  },
  "cells": [
    {
      "cell_type": "markdown",
      "metadata": {
        "id": "view-in-github",
        "colab_type": "text"
      },
      "source": [
        "<a href=\"https://colab.research.google.com/github/Antoszx/Prueba/blob/main/pandas.ipynb\" target=\"_parent\"><img src=\"https://colab.research.google.com/assets/colab-badge.svg\" alt=\"Open In Colab\"/></a>"
      ]
    },
    {
      "cell_type": "markdown",
      "metadata": {
        "id": "md6C1soZ3ZHa"
      },
      "source": [
        "<p style=\"font-family: Arial; font-size:3.75em;color:purple; font-style:bold\"><br>\n",
        "Pandas</p><br>"
      ]
    },
    {
      "cell_type": "markdown",
      "metadata": {
        "id": "YDrdTPOF3ZHb"
      },
      "source": [
        "Importamos la librería"
      ]
    },
    {
      "cell_type": "code",
      "metadata": {
        "id": "EQR_K7Xf3ZHc"
      },
      "source": [
        "import pandas as pd"
      ],
      "execution_count": null,
      "outputs": []
    },
    {
      "cell_type": "markdown",
      "metadata": {
        "id": "KfbV3Y9J3ZHc"
      },
      "source": [
        "Pandas posee dos estructuras de datos básicas.\n",
        "* Series\n",
        "* Dataframes"
      ]
    },
    {
      "cell_type": "markdown",
      "metadata": {
        "id": "_WRtMt6J3ZHc"
      },
      "source": [
        "## Series"
      ]
    },
    {
      "cell_type": "code",
      "metadata": {
        "colab": {
          "base_uri": "https://localhost:8080/"
        },
        "id": "QQhy75d_3ZHd",
        "outputId": "730aba8f-9b0d-47fb-84df-51c02e1c9f2b"
      },
      "source": [
        "#creamos una Serie a donde pasamos un primer arreglo con el índice\n",
        "# veamos que si no ponemos índice automáticamente nos crea una llave única e incremental\n",
        "ser = pd.Series(index = ['pablo', 'juan', 'pedro', 'daniel', 'enrique'], data = [100, 'Ninguno', 300, 'Texto', 5.3])\n",
        "ser"
      ],
      "execution_count": null,
      "outputs": [
        {
          "output_type": "execute_result",
          "data": {
            "text/plain": [
              "pablo          100\n",
              "juan       Ninguno\n",
              "pedro          300\n",
              "daniel       Texto\n",
              "enrique        5.3\n",
              "dtype: object"
            ]
          },
          "metadata": {
            "tags": []
          },
          "execution_count": 6
        }
      ]
    },
    {
      "cell_type": "code",
      "metadata": {
        "colab": {
          "base_uri": "https://localhost:8080/"
        },
        "id": "J7BEsrRH3ZHd",
        "outputId": "27fe4dc6-df4b-4728-89f2-e5c2a3d182bd"
      },
      "source": [
        "# obtenemos el índice\n",
        "ser.index"
      ],
      "execution_count": null,
      "outputs": [
        {
          "output_type": "execute_result",
          "data": {
            "text/plain": [
              "Index(['pablo', 'juan', 'pedro', 'daniel', 'enrique'], dtype='object')"
            ]
          },
          "metadata": {
            "tags": []
          },
          "execution_count": 7
        }
      ]
    },
    {
      "cell_type": "code",
      "metadata": {
        "colab": {
          "base_uri": "https://localhost:8080/",
          "height": 35
        },
        "id": "wIvWZcDF3ZHe",
        "outputId": "9bfe7bc0-c05c-4d12-91c2-4f6177c28e87"
      },
      "source": [
        "# accedo a al valor de una posición \n",
        "ser['juan']"
      ],
      "execution_count": null,
      "outputs": [
        {
          "output_type": "execute_result",
          "data": {
            "application/vnd.google.colaboratory.intrinsic+json": {
              "type": "string"
            },
            "text/plain": [
              "'Ninguno'"
            ]
          },
          "metadata": {
            "tags": []
          },
          "execution_count": 8
        }
      ]
    },
    {
      "cell_type": "code",
      "metadata": {
        "colab": {
          "base_uri": "https://localhost:8080/",
          "height": 35
        },
        "id": "oEi9zUY73ZHe",
        "outputId": "9cdcd1de-c745-4b19-b031-7e58b5f896dd"
      },
      "source": [
        "# lo puedo hacer con loc\n",
        "ser.loc['juan']"
      ],
      "execution_count": null,
      "outputs": [
        {
          "output_type": "execute_result",
          "data": {
            "application/vnd.google.colaboratory.intrinsic+json": {
              "type": "string"
            },
            "text/plain": [
              "'Ninguno'"
            ]
          },
          "metadata": {
            "tags": []
          },
          "execution_count": 9
        }
      ]
    },
    {
      "cell_type": "code",
      "metadata": {
        "colab": {
          "base_uri": "https://localhost:8080/"
        },
        "id": "_VXSHA8u3ZHe",
        "outputId": "441360f3-831c-4228-b42b-05ed89ca4f47"
      },
      "source": [
        "# a loc puedo pasarle un array y acceder a multiples índices al mismo tiempo\n",
        "ser.loc[['juan','pablo']]"
      ],
      "execution_count": null,
      "outputs": [
        {
          "output_type": "execute_result",
          "data": {
            "text/plain": [
              "juan     Ninguno\n",
              "pablo        100\n",
              "dtype: object"
            ]
          },
          "metadata": {
            "tags": []
          },
          "execution_count": 10
        }
      ]
    },
    {
      "cell_type": "code",
      "metadata": {
        "colab": {
          "base_uri": "https://localhost:8080/"
        },
        "id": "cu7cfsvZ3ZHf",
        "outputId": "ba331c6a-427c-4297-83db-d871c2249d68"
      },
      "source": [
        "# otra manera de acceder a múltiples índices es la siguiente\n",
        "ser[[0,1,2]]"
      ],
      "execution_count": null,
      "outputs": [
        {
          "output_type": "execute_result",
          "data": {
            "text/plain": [
              "pablo        100\n",
              "juan     Ninguno\n",
              "pedro        300\n",
              "dtype: object"
            ]
          },
          "metadata": {
            "tags": []
          },
          "execution_count": 11
        }
      ]
    },
    {
      "cell_type": "code",
      "metadata": {
        "colab": {
          "base_uri": "https://localhost:8080/"
        },
        "id": "mxgQiigt3ZHf",
        "outputId": "05a1dcc3-6d11-4a5b-c3f3-e49af3864d45"
      },
      "source": [
        "# con .loc no podremos pasar índices numéricos debemos hacerlo con .iloc\n",
        "ser.iloc[[0,1,2]]"
      ],
      "execution_count": null,
      "outputs": [
        {
          "output_type": "execute_result",
          "data": {
            "text/plain": [
              "pablo        100\n",
              "juan     Ninguno\n",
              "pedro        300\n",
              "dtype: object"
            ]
          },
          "metadata": {
            "tags": []
          },
          "execution_count": 12
        }
      ]
    },
    {
      "cell_type": "code",
      "metadata": {
        "colab": {
          "base_uri": "https://localhost:8080/"
        },
        "id": "lzNmBA-d3ZHf",
        "outputId": "012dfd2c-6cec-4582-9118-68c665e5b645"
      },
      "source": [
        "# podemos consultar si existe un índice en la serie\n",
        "\"pablo\" in ser"
      ],
      "execution_count": null,
      "outputs": [
        {
          "output_type": "execute_result",
          "data": {
            "text/plain": [
              "True"
            ]
          },
          "metadata": {
            "tags": []
          },
          "execution_count": 13
        }
      ]
    },
    {
      "cell_type": "code",
      "metadata": {
        "colab": {
          "base_uri": "https://localhost:8080/"
        },
        "id": "QlJQRYK-3ZHf",
        "outputId": "376041a7-a886-45d7-a5ac-01a42e7b99ba"
      },
      "source": [
        "# como vemos a continuación también podemos realizar operaciones, \n",
        "#(siempre que el tipo de dato lo permita)\n",
        "ser * 3\n"
      ],
      "execution_count": null,
      "outputs": [
        {
          "output_type": "execute_result",
          "data": {
            "text/plain": [
              "pablo                        300\n",
              "juan       NingunoNingunoNinguno\n",
              "pedro                        900\n",
              "daniel           TextoTextoTexto\n",
              "enrique                     15.9\n",
              "dtype: object"
            ]
          },
          "metadata": {
            "tags": []
          },
          "execution_count": 14
        }
      ]
    },
    {
      "cell_type": "code",
      "metadata": {
        "scrolled": true,
        "id": "6t5MVEIA3ZHg"
      },
      "source": [
        "# por qué esto da error?\n",
        "ser ** 2"
      ],
      "execution_count": null,
      "outputs": []
    },
    {
      "cell_type": "code",
      "metadata": {
        "id": "7L7JYHY03ZHg",
        "outputId": "d8046038-44f5-4568-f30a-f2ddb430940b"
      },
      "source": [
        "# lo solucionamos aplicando la operación solo a valores enteros o flotantes\n",
        "ser[['pablo','pedro','enrique']] ** 2"
      ],
      "execution_count": null,
      "outputs": [
        {
          "output_type": "execute_result",
          "data": {
            "text/plain": [
              "pablo      10000\n",
              "pedro      90000\n",
              "enrique    28.09\n",
              "dtype: object"
            ]
          },
          "metadata": {
            "tags": []
          },
          "execution_count": 12
        }
      ]
    },
    {
      "cell_type": "markdown",
      "metadata": {
        "id": "5SoAGlsB3ZHg"
      },
      "source": [
        "<br><br><br><br> \n",
        "# Dataframe\n",
        "<br><br>\n",
        "Podemos crear un dataframe, a partir de un diccionario de python"
      ]
    },
    {
      "cell_type": "code",
      "metadata": {
        "id": "jZeyaREM3ZHg"
      },
      "source": [
        "d = {'invierno' : pd.Series([100., 200., 300.], index=['manzana', 'pera', 'naranja']),\n",
        "     'primavera' : pd.Series([111., 222., 333., 4444.], index=['manzana', 'pera', 'cereza', 'uva'])}"
      ],
      "execution_count": null,
      "outputs": []
    },
    {
      "cell_type": "code",
      "metadata": {
        "colab": {
          "base_uri": "https://localhost:8080/",
          "height": 195
        },
        "id": "pqi8SBfB3ZHh",
        "outputId": "d51f2dce-1094-4f08-9cbe-cb1dc7afc489"
      },
      "source": [
        "df = pd.DataFrame(d)\n",
        "df\n"
      ],
      "execution_count": null,
      "outputs": [
        {
          "output_type": "execute_result",
          "data": {
            "text/html": [
              "<div>\n",
              "<style scoped>\n",
              "    .dataframe tbody tr th:only-of-type {\n",
              "        vertical-align: middle;\n",
              "    }\n",
              "\n",
              "    .dataframe tbody tr th {\n",
              "        vertical-align: top;\n",
              "    }\n",
              "\n",
              "    .dataframe thead th {\n",
              "        text-align: right;\n",
              "    }\n",
              "</style>\n",
              "<table border=\"1\" class=\"dataframe\">\n",
              "  <thead>\n",
              "    <tr style=\"text-align: right;\">\n",
              "      <th></th>\n",
              "      <th>invierno</th>\n",
              "      <th>primavera</th>\n",
              "    </tr>\n",
              "  </thead>\n",
              "  <tbody>\n",
              "    <tr>\n",
              "      <th>cereza</th>\n",
              "      <td>NaN</td>\n",
              "      <td>333.0</td>\n",
              "    </tr>\n",
              "    <tr>\n",
              "      <th>manzana</th>\n",
              "      <td>100.0</td>\n",
              "      <td>111.0</td>\n",
              "    </tr>\n",
              "    <tr>\n",
              "      <th>naranja</th>\n",
              "      <td>300.0</td>\n",
              "      <td>NaN</td>\n",
              "    </tr>\n",
              "    <tr>\n",
              "      <th>pera</th>\n",
              "      <td>200.0</td>\n",
              "      <td>222.0</td>\n",
              "    </tr>\n",
              "    <tr>\n",
              "      <th>uva</th>\n",
              "      <td>NaN</td>\n",
              "      <td>4444.0</td>\n",
              "    </tr>\n",
              "  </tbody>\n",
              "</table>\n",
              "</div>"
            ],
            "text/plain": [
              "         invierno  primavera\n",
              "cereza        NaN      333.0\n",
              "manzana     100.0      111.0\n",
              "naranja     300.0        NaN\n",
              "pera        200.0      222.0\n",
              "uva           NaN     4444.0"
            ]
          },
          "metadata": {
            "tags": []
          },
          "execution_count": 17
        }
      ]
    },
    {
      "cell_type": "code",
      "metadata": {
        "colab": {
          "base_uri": "https://localhost:8080/"
        },
        "id": "TkmNqIDl3ZHh",
        "outputId": "b0dc78f2-33fd-4137-a1bc-9dec32270abd"
      },
      "source": [
        "df.index"
      ],
      "execution_count": null,
      "outputs": [
        {
          "output_type": "execute_result",
          "data": {
            "text/plain": [
              "Index(['cereza', 'manzana', 'naranja', 'pera', 'uva'], dtype='object')"
            ]
          },
          "metadata": {
            "tags": []
          },
          "execution_count": 18
        }
      ]
    },
    {
      "cell_type": "code",
      "metadata": {
        "id": "zOkx9PRg3ZHh",
        "outputId": "084ff116-f181-49ef-d8bd-e68e319bc51f"
      },
      "source": [
        "df.columns"
      ],
      "execution_count": null,
      "outputs": [
        {
          "output_type": "execute_result",
          "data": {
            "text/plain": [
              "Index(['invierno', 'primavera'], dtype='object')"
            ]
          },
          "metadata": {
            "tags": []
          },
          "execution_count": 16
        }
      ]
    },
    {
      "cell_type": "code",
      "metadata": {
        "id": "Em_-2Rij3ZHh",
        "outputId": "812ab02e-9509-4d12-c299-238a47a849cc"
      },
      "source": [
        "# podemos crear un dataframe especificando los índices que quiero usar.\n",
        "df2 = pd.DataFrame(d, index = ['manzana','pera','cereza'])\n",
        "print(df2)"
      ],
      "execution_count": null,
      "outputs": [
        {
          "output_type": "stream",
          "text": [
            "         invierno  primavera\n",
            "manzana     100.0      111.0\n",
            "pera        200.0      222.0\n",
            "cereza        NaN      333.0\n"
          ],
          "name": "stdout"
        }
      ]
    },
    {
      "cell_type": "code",
      "metadata": {
        "id": "hPqYs-LU3ZHh",
        "outputId": "0b549732-97e1-4fcb-965d-d441989f7d6a"
      },
      "source": [
        "# podemos crear un dataframe especificando las columnas que quiero usar, incluso agregar una nueva\n",
        "df2 = pd.DataFrame(d, index = ['manzana','pera','cereza'], columns=['invierno','primavera','verano'])\n",
        "print(df2)"
      ],
      "execution_count": null,
      "outputs": [
        {
          "output_type": "stream",
          "text": [
            "         invierno  primavera verano\n",
            "manzana     100.0      111.0    NaN\n",
            "pera        200.0      222.0    NaN\n",
            "cereza        NaN      333.0    NaN\n"
          ],
          "name": "stdout"
        }
      ]
    },
    {
      "cell_type": "markdown",
      "metadata": {
        "id": "zNDZ5RHV3ZHi"
      },
      "source": [
        "<br><br>\n",
        "<p style=\"font-family: Arial; font-size:1.25em;color:#2462C0; font-style:bold\">\n",
        "Podemos crear un Dataframe a partir de una Lista de Diccionarios de Python</p>"
      ]
    },
    {
      "cell_type": "code",
      "metadata": {
        "id": "FyoRClu83ZHi"
      },
      "source": [
        "data = [{'pablo': 1, 'juan': 2}, {'pedro': 5, 'julia': 10, 'maria': 20}]"
      ],
      "execution_count": null,
      "outputs": []
    },
    {
      "cell_type": "code",
      "metadata": {
        "id": "zF5Ogryd3ZHi",
        "outputId": "2ca19112-b1cf-4b19-d247-e67454550f41"
      },
      "source": [
        "#veamos cómo automáticamente se asignan índices\n",
        "pd.DataFrame(data)"
      ],
      "execution_count": null,
      "outputs": [
        {
          "output_type": "execute_result",
          "data": {
            "text/html": [
              "<div>\n",
              "<style scoped>\n",
              "    .dataframe tbody tr th:only-of-type {\n",
              "        vertical-align: middle;\n",
              "    }\n",
              "\n",
              "    .dataframe tbody tr th {\n",
              "        vertical-align: top;\n",
              "    }\n",
              "\n",
              "    .dataframe thead th {\n",
              "        text-align: right;\n",
              "    }\n",
              "</style>\n",
              "<table border=\"1\" class=\"dataframe\">\n",
              "  <thead>\n",
              "    <tr style=\"text-align: right;\">\n",
              "      <th></th>\n",
              "      <th>juan</th>\n",
              "      <th>julia</th>\n",
              "      <th>maria</th>\n",
              "      <th>pablo</th>\n",
              "      <th>pedro</th>\n",
              "    </tr>\n",
              "  </thead>\n",
              "  <tbody>\n",
              "    <tr>\n",
              "      <th>0</th>\n",
              "      <td>2.0</td>\n",
              "      <td>NaN</td>\n",
              "      <td>NaN</td>\n",
              "      <td>1.0</td>\n",
              "      <td>NaN</td>\n",
              "    </tr>\n",
              "    <tr>\n",
              "      <th>1</th>\n",
              "      <td>NaN</td>\n",
              "      <td>10.0</td>\n",
              "      <td>20.0</td>\n",
              "      <td>NaN</td>\n",
              "      <td>5.0</td>\n",
              "    </tr>\n",
              "  </tbody>\n",
              "</table>\n",
              "</div>"
            ],
            "text/plain": [
              "   juan  julia  maria  pablo  pedro\n",
              "0   2.0    NaN    NaN    1.0    NaN\n",
              "1   NaN   10.0   20.0    NaN    5.0"
            ]
          },
          "metadata": {
            "tags": []
          },
          "execution_count": 20
        }
      ]
    },
    {
      "cell_type": "code",
      "metadata": {
        "id": "evPehvBs3ZHi",
        "outputId": "c1552fb2-d160-4596-96f8-3a7f893cf1eb"
      },
      "source": [
        "# podemos reemplazar los índices por escpecíficos\n",
        "pd.DataFrame(data, index=['verde', 'rojo'])"
      ],
      "execution_count": null,
      "outputs": [
        {
          "output_type": "execute_result",
          "data": {
            "text/html": [
              "<div>\n",
              "<style scoped>\n",
              "    .dataframe tbody tr th:only-of-type {\n",
              "        vertical-align: middle;\n",
              "    }\n",
              "\n",
              "    .dataframe tbody tr th {\n",
              "        vertical-align: top;\n",
              "    }\n",
              "\n",
              "    .dataframe thead th {\n",
              "        text-align: right;\n",
              "    }\n",
              "</style>\n",
              "<table border=\"1\" class=\"dataframe\">\n",
              "  <thead>\n",
              "    <tr style=\"text-align: right;\">\n",
              "      <th></th>\n",
              "      <th>juan</th>\n",
              "      <th>julia</th>\n",
              "      <th>maria</th>\n",
              "      <th>pablo</th>\n",
              "      <th>pedro</th>\n",
              "    </tr>\n",
              "  </thead>\n",
              "  <tbody>\n",
              "    <tr>\n",
              "      <th>verde</th>\n",
              "      <td>2.0</td>\n",
              "      <td>NaN</td>\n",
              "      <td>NaN</td>\n",
              "      <td>1.0</td>\n",
              "      <td>NaN</td>\n",
              "    </tr>\n",
              "    <tr>\n",
              "      <th>rojo</th>\n",
              "      <td>NaN</td>\n",
              "      <td>10.0</td>\n",
              "      <td>20.0</td>\n",
              "      <td>NaN</td>\n",
              "      <td>5.0</td>\n",
              "    </tr>\n",
              "  </tbody>\n",
              "</table>\n",
              "</div>"
            ],
            "text/plain": [
              "       juan  julia  maria  pablo  pedro\n",
              "verde   2.0    NaN    NaN    1.0    NaN\n",
              "rojo    NaN   10.0   20.0    NaN    5.0"
            ]
          },
          "metadata": {
            "tags": []
          },
          "execution_count": 21
        }
      ]
    },
    {
      "cell_type": "code",
      "metadata": {
        "id": "_wZhA5em3ZHj",
        "outputId": "cb665271-58bd-4940-ee2c-7e6b1fc1ec86"
      },
      "source": [
        "# podemos crear el dataframe solo con determinadas columnas\n",
        "pd.DataFrame(data, columns=['juan', 'pedro'], index=['verde', 'rojo'])"
      ],
      "execution_count": null,
      "outputs": [
        {
          "output_type": "execute_result",
          "data": {
            "text/html": [
              "<div>\n",
              "<style scoped>\n",
              "    .dataframe tbody tr th:only-of-type {\n",
              "        vertical-align: middle;\n",
              "    }\n",
              "\n",
              "    .dataframe tbody tr th {\n",
              "        vertical-align: top;\n",
              "    }\n",
              "\n",
              "    .dataframe thead th {\n",
              "        text-align: right;\n",
              "    }\n",
              "</style>\n",
              "<table border=\"1\" class=\"dataframe\">\n",
              "  <thead>\n",
              "    <tr style=\"text-align: right;\">\n",
              "      <th></th>\n",
              "      <th>juan</th>\n",
              "      <th>pedro</th>\n",
              "    </tr>\n",
              "  </thead>\n",
              "  <tbody>\n",
              "    <tr>\n",
              "      <th>verde</th>\n",
              "      <td>2.0</td>\n",
              "      <td>NaN</td>\n",
              "    </tr>\n",
              "    <tr>\n",
              "      <th>rojo</th>\n",
              "      <td>NaN</td>\n",
              "      <td>5.0</td>\n",
              "    </tr>\n",
              "  </tbody>\n",
              "</table>\n",
              "</div>"
            ],
            "text/plain": [
              "       juan  pedro\n",
              "verde   2.0    NaN\n",
              "rojo    NaN    5.0"
            ]
          },
          "metadata": {
            "tags": []
          },
          "execution_count": 22
        }
      ]
    },
    {
      "cell_type": "markdown",
      "metadata": {
        "id": "WEGD6TtA3ZHj"
      },
      "source": [
        "<br><br>\n",
        "<p style=\"font-family: Arial; font-size:1.25em;color:#2462C0; font-style:bold\">\n",
        "Operaciones básicas con DataFrames </p>"
      ]
    },
    {
      "cell_type": "code",
      "metadata": {
        "id": "yUBQR83m3ZHj",
        "outputId": "5fc97df8-0fa2-488d-9f2a-890e3072b2a3"
      },
      "source": [
        "df"
      ],
      "execution_count": null,
      "outputs": [
        {
          "output_type": "execute_result",
          "data": {
            "text/html": [
              "<div>\n",
              "<style scoped>\n",
              "    .dataframe tbody tr th:only-of-type {\n",
              "        vertical-align: middle;\n",
              "    }\n",
              "\n",
              "    .dataframe tbody tr th {\n",
              "        vertical-align: top;\n",
              "    }\n",
              "\n",
              "    .dataframe thead th {\n",
              "        text-align: right;\n",
              "    }\n",
              "</style>\n",
              "<table border=\"1\" class=\"dataframe\">\n",
              "  <thead>\n",
              "    <tr style=\"text-align: right;\">\n",
              "      <th></th>\n",
              "      <th>invierno</th>\n",
              "      <th>primavera</th>\n",
              "    </tr>\n",
              "  </thead>\n",
              "  <tbody>\n",
              "    <tr>\n",
              "      <th>cereza</th>\n",
              "      <td>NaN</td>\n",
              "      <td>333.0</td>\n",
              "    </tr>\n",
              "    <tr>\n",
              "      <th>manzana</th>\n",
              "      <td>100.0</td>\n",
              "      <td>111.0</td>\n",
              "    </tr>\n",
              "    <tr>\n",
              "      <th>naranja</th>\n",
              "      <td>300.0</td>\n",
              "      <td>NaN</td>\n",
              "    </tr>\n",
              "    <tr>\n",
              "      <th>pera</th>\n",
              "      <td>200.0</td>\n",
              "      <td>222.0</td>\n",
              "    </tr>\n",
              "    <tr>\n",
              "      <th>uva</th>\n",
              "      <td>NaN</td>\n",
              "      <td>4444.0</td>\n",
              "    </tr>\n",
              "  </tbody>\n",
              "</table>\n",
              "</div>"
            ],
            "text/plain": [
              "         invierno  primavera\n",
              "cereza        NaN      333.0\n",
              "manzana     100.0      111.0\n",
              "naranja     300.0        NaN\n",
              "pera        200.0      222.0\n",
              "uva           NaN     4444.0"
            ]
          },
          "metadata": {
            "tags": []
          },
          "execution_count": 23
        }
      ]
    },
    {
      "cell_type": "code",
      "metadata": {
        "id": "0CytHiMl3ZHj",
        "outputId": "729739cb-97e4-449a-853f-735defb24983"
      },
      "source": [
        "df['invierno']"
      ],
      "execution_count": null,
      "outputs": [
        {
          "output_type": "execute_result",
          "data": {
            "text/plain": [
              "cereza       NaN\n",
              "manzana    100.0\n",
              "naranja    300.0\n",
              "pera       200.0\n",
              "uva          NaN\n",
              "Name: invierno, dtype: float64"
            ]
          },
          "metadata": {
            "tags": []
          },
          "execution_count": 24
        }
      ]
    },
    {
      "cell_type": "code",
      "metadata": {
        "id": "evBD6R663ZHj",
        "outputId": "a86376ca-b29d-43b4-b5ca-629e3df50733"
      },
      "source": [
        "# generamos una nueva columna a partir de la operación de otras dos\n",
        "df['verano'] = df['invierno'] * df['primavera']\n",
        "df"
      ],
      "execution_count": null,
      "outputs": [
        {
          "output_type": "execute_result",
          "data": {
            "text/html": [
              "<div>\n",
              "<style scoped>\n",
              "    .dataframe tbody tr th:only-of-type {\n",
              "        vertical-align: middle;\n",
              "    }\n",
              "\n",
              "    .dataframe tbody tr th {\n",
              "        vertical-align: top;\n",
              "    }\n",
              "\n",
              "    .dataframe thead th {\n",
              "        text-align: right;\n",
              "    }\n",
              "</style>\n",
              "<table border=\"1\" class=\"dataframe\">\n",
              "  <thead>\n",
              "    <tr style=\"text-align: right;\">\n",
              "      <th></th>\n",
              "      <th>invierno</th>\n",
              "      <th>primavera</th>\n",
              "      <th>verano</th>\n",
              "    </tr>\n",
              "  </thead>\n",
              "  <tbody>\n",
              "    <tr>\n",
              "      <th>cereza</th>\n",
              "      <td>NaN</td>\n",
              "      <td>333.0</td>\n",
              "      <td>NaN</td>\n",
              "    </tr>\n",
              "    <tr>\n",
              "      <th>manzana</th>\n",
              "      <td>100.0</td>\n",
              "      <td>111.0</td>\n",
              "      <td>11100.0</td>\n",
              "    </tr>\n",
              "    <tr>\n",
              "      <th>naranja</th>\n",
              "      <td>300.0</td>\n",
              "      <td>NaN</td>\n",
              "      <td>NaN</td>\n",
              "    </tr>\n",
              "    <tr>\n",
              "      <th>pera</th>\n",
              "      <td>200.0</td>\n",
              "      <td>222.0</td>\n",
              "      <td>44400.0</td>\n",
              "    </tr>\n",
              "    <tr>\n",
              "      <th>uva</th>\n",
              "      <td>NaN</td>\n",
              "      <td>4444.0</td>\n",
              "      <td>NaN</td>\n",
              "    </tr>\n",
              "  </tbody>\n",
              "</table>\n",
              "</div>"
            ],
            "text/plain": [
              "         invierno  primavera   verano\n",
              "cereza        NaN      333.0      NaN\n",
              "manzana     100.0      111.0  11100.0\n",
              "naranja     300.0        NaN      NaN\n",
              "pera        200.0      222.0  44400.0\n",
              "uva           NaN     4444.0      NaN"
            ]
          },
          "metadata": {
            "tags": []
          },
          "execution_count": 25
        }
      ]
    },
    {
      "cell_type": "code",
      "metadata": {
        "id": "a5LV1ekh3ZHk",
        "outputId": "f0f6646d-4125-4602-e823-7cd971e77cdc"
      },
      "source": [
        "# generamos una nueva columna a partir de una comparación\n",
        "df['infra'] = df['primavera']<4000\n",
        "df"
      ],
      "execution_count": null,
      "outputs": [
        {
          "output_type": "execute_result",
          "data": {
            "text/html": [
              "<div>\n",
              "<style scoped>\n",
              "    .dataframe tbody tr th:only-of-type {\n",
              "        vertical-align: middle;\n",
              "    }\n",
              "\n",
              "    .dataframe tbody tr th {\n",
              "        vertical-align: top;\n",
              "    }\n",
              "\n",
              "    .dataframe thead th {\n",
              "        text-align: right;\n",
              "    }\n",
              "</style>\n",
              "<table border=\"1\" class=\"dataframe\">\n",
              "  <thead>\n",
              "    <tr style=\"text-align: right;\">\n",
              "      <th></th>\n",
              "      <th>invierno</th>\n",
              "      <th>primavera</th>\n",
              "      <th>verano</th>\n",
              "      <th>infra</th>\n",
              "    </tr>\n",
              "  </thead>\n",
              "  <tbody>\n",
              "    <tr>\n",
              "      <th>cereza</th>\n",
              "      <td>NaN</td>\n",
              "      <td>333.0</td>\n",
              "      <td>NaN</td>\n",
              "      <td>True</td>\n",
              "    </tr>\n",
              "    <tr>\n",
              "      <th>manzana</th>\n",
              "      <td>100.0</td>\n",
              "      <td>111.0</td>\n",
              "      <td>11100.0</td>\n",
              "      <td>True</td>\n",
              "    </tr>\n",
              "    <tr>\n",
              "      <th>naranja</th>\n",
              "      <td>300.0</td>\n",
              "      <td>NaN</td>\n",
              "      <td>NaN</td>\n",
              "      <td>False</td>\n",
              "    </tr>\n",
              "    <tr>\n",
              "      <th>pera</th>\n",
              "      <td>200.0</td>\n",
              "      <td>222.0</td>\n",
              "      <td>44400.0</td>\n",
              "      <td>True</td>\n",
              "    </tr>\n",
              "    <tr>\n",
              "      <th>uva</th>\n",
              "      <td>NaN</td>\n",
              "      <td>4444.0</td>\n",
              "      <td>NaN</td>\n",
              "      <td>False</td>\n",
              "    </tr>\n",
              "  </tbody>\n",
              "</table>\n",
              "</div>"
            ],
            "text/plain": [
              "         invierno  primavera   verano  infra\n",
              "cereza        NaN      333.0      NaN   True\n",
              "manzana     100.0      111.0  11100.0   True\n",
              "naranja     300.0        NaN      NaN  False\n",
              "pera        200.0      222.0  44400.0   True\n",
              "uva           NaN     4444.0      NaN  False"
            ]
          },
          "metadata": {
            "tags": []
          },
          "execution_count": 26
        }
      ]
    },
    {
      "cell_type": "code",
      "metadata": {
        "id": "3i8fwvwp3ZHk",
        "outputId": "2a1763b5-9691-4439-e9f2-a30a5c15fe45"
      },
      "source": [
        "aislado = df.pop('infra')\n",
        "aislado"
      ],
      "execution_count": null,
      "outputs": [
        {
          "output_type": "execute_result",
          "data": {
            "text/plain": [
              "cereza      True\n",
              "manzana     True\n",
              "naranja    False\n",
              "pera        True\n",
              "uva        False\n",
              "Name: infra, dtype: bool"
            ]
          },
          "metadata": {
            "tags": []
          },
          "execution_count": 27
        }
      ]
    },
    {
      "cell_type": "code",
      "metadata": {
        "id": "LVvch2zi3ZHk",
        "outputId": "2800c536-bef5-49e7-86df-730c92f649e9"
      },
      "source": [
        "df"
      ],
      "execution_count": null,
      "outputs": [
        {
          "output_type": "execute_result",
          "data": {
            "text/html": [
              "<div>\n",
              "<style scoped>\n",
              "    .dataframe tbody tr th:only-of-type {\n",
              "        vertical-align: middle;\n",
              "    }\n",
              "\n",
              "    .dataframe tbody tr th {\n",
              "        vertical-align: top;\n",
              "    }\n",
              "\n",
              "    .dataframe thead th {\n",
              "        text-align: right;\n",
              "    }\n",
              "</style>\n",
              "<table border=\"1\" class=\"dataframe\">\n",
              "  <thead>\n",
              "    <tr style=\"text-align: right;\">\n",
              "      <th></th>\n",
              "      <th>invierno</th>\n",
              "      <th>primavera</th>\n",
              "      <th>verano</th>\n",
              "    </tr>\n",
              "  </thead>\n",
              "  <tbody>\n",
              "    <tr>\n",
              "      <th>cereza</th>\n",
              "      <td>NaN</td>\n",
              "      <td>333.0</td>\n",
              "      <td>NaN</td>\n",
              "    </tr>\n",
              "    <tr>\n",
              "      <th>manzana</th>\n",
              "      <td>100.0</td>\n",
              "      <td>111.0</td>\n",
              "      <td>11100.0</td>\n",
              "    </tr>\n",
              "    <tr>\n",
              "      <th>naranja</th>\n",
              "      <td>300.0</td>\n",
              "      <td>NaN</td>\n",
              "      <td>NaN</td>\n",
              "    </tr>\n",
              "    <tr>\n",
              "      <th>pera</th>\n",
              "      <td>200.0</td>\n",
              "      <td>222.0</td>\n",
              "      <td>44400.0</td>\n",
              "    </tr>\n",
              "    <tr>\n",
              "      <th>uva</th>\n",
              "      <td>NaN</td>\n",
              "      <td>4444.0</td>\n",
              "      <td>NaN</td>\n",
              "    </tr>\n",
              "  </tbody>\n",
              "</table>\n",
              "</div>"
            ],
            "text/plain": [
              "         invierno  primavera   verano\n",
              "cereza        NaN      333.0      NaN\n",
              "manzana     100.0      111.0  11100.0\n",
              "naranja     300.0        NaN      NaN\n",
              "pera        200.0      222.0  44400.0\n",
              "uva           NaN     4444.0      NaN"
            ]
          },
          "metadata": {
            "tags": []
          },
          "execution_count": 28
        }
      ]
    },
    {
      "cell_type": "code",
      "metadata": {
        "id": "IObPnJof3ZHk",
        "outputId": "792ffb3a-5ce1-43cc-953d-2bde822690b6"
      },
      "source": [
        "del df['verano']\n",
        "df"
      ],
      "execution_count": null,
      "outputs": [
        {
          "output_type": "execute_result",
          "data": {
            "text/html": [
              "<div>\n",
              "<style scoped>\n",
              "    .dataframe tbody tr th:only-of-type {\n",
              "        vertical-align: middle;\n",
              "    }\n",
              "\n",
              "    .dataframe tbody tr th {\n",
              "        vertical-align: top;\n",
              "    }\n",
              "\n",
              "    .dataframe thead th {\n",
              "        text-align: right;\n",
              "    }\n",
              "</style>\n",
              "<table border=\"1\" class=\"dataframe\">\n",
              "  <thead>\n",
              "    <tr style=\"text-align: right;\">\n",
              "      <th></th>\n",
              "      <th>invierno</th>\n",
              "      <th>primavera</th>\n",
              "    </tr>\n",
              "  </thead>\n",
              "  <tbody>\n",
              "    <tr>\n",
              "      <th>cereza</th>\n",
              "      <td>NaN</td>\n",
              "      <td>333.0</td>\n",
              "    </tr>\n",
              "    <tr>\n",
              "      <th>manzana</th>\n",
              "      <td>100.0</td>\n",
              "      <td>111.0</td>\n",
              "    </tr>\n",
              "    <tr>\n",
              "      <th>naranja</th>\n",
              "      <td>300.0</td>\n",
              "      <td>NaN</td>\n",
              "    </tr>\n",
              "    <tr>\n",
              "      <th>pera</th>\n",
              "      <td>200.0</td>\n",
              "      <td>222.0</td>\n",
              "    </tr>\n",
              "    <tr>\n",
              "      <th>uva</th>\n",
              "      <td>NaN</td>\n",
              "      <td>4444.0</td>\n",
              "    </tr>\n",
              "  </tbody>\n",
              "</table>\n",
              "</div>"
            ],
            "text/plain": [
              "         invierno  primavera\n",
              "cereza        NaN      333.0\n",
              "manzana     100.0      111.0\n",
              "naranja     300.0        NaN\n",
              "pera        200.0      222.0\n",
              "uva           NaN     4444.0"
            ]
          },
          "metadata": {
            "tags": []
          },
          "execution_count": 29
        }
      ]
    },
    {
      "cell_type": "code",
      "metadata": {
        "id": "4vOZ4EEU3ZHk",
        "outputId": "4c3a2680-9ca3-41e8-f932-421ee5df3564"
      },
      "source": [
        "# insert nos permite insertar una nueva columna, para eso pasamos\n",
        "# posición de la nueva columna\n",
        "# nombre de la nueva columna\n",
        "# origen de la nueva columna (puede ser una serie o bien una columna de la misma u otra tabla)\n",
        "\n",
        "df.insert(0, 'primavera_copia', df['primavera'])\n",
        "df"
      ],
      "execution_count": null,
      "outputs": [
        {
          "output_type": "execute_result",
          "data": {
            "text/html": [
              "<div>\n",
              "<style scoped>\n",
              "    .dataframe tbody tr th:only-of-type {\n",
              "        vertical-align: middle;\n",
              "    }\n",
              "\n",
              "    .dataframe tbody tr th {\n",
              "        vertical-align: top;\n",
              "    }\n",
              "\n",
              "    .dataframe thead th {\n",
              "        text-align: right;\n",
              "    }\n",
              "</style>\n",
              "<table border=\"1\" class=\"dataframe\">\n",
              "  <thead>\n",
              "    <tr style=\"text-align: right;\">\n",
              "      <th></th>\n",
              "      <th>primavera_copia</th>\n",
              "      <th>invierno</th>\n",
              "      <th>primavera</th>\n",
              "    </tr>\n",
              "  </thead>\n",
              "  <tbody>\n",
              "    <tr>\n",
              "      <th>cereza</th>\n",
              "      <td>333.0</td>\n",
              "      <td>NaN</td>\n",
              "      <td>333.0</td>\n",
              "    </tr>\n",
              "    <tr>\n",
              "      <th>manzana</th>\n",
              "      <td>111.0</td>\n",
              "      <td>100.0</td>\n",
              "      <td>111.0</td>\n",
              "    </tr>\n",
              "    <tr>\n",
              "      <th>naranja</th>\n",
              "      <td>NaN</td>\n",
              "      <td>300.0</td>\n",
              "      <td>NaN</td>\n",
              "    </tr>\n",
              "    <tr>\n",
              "      <th>pera</th>\n",
              "      <td>222.0</td>\n",
              "      <td>200.0</td>\n",
              "      <td>222.0</td>\n",
              "    </tr>\n",
              "    <tr>\n",
              "      <th>uva</th>\n",
              "      <td>4444.0</td>\n",
              "      <td>NaN</td>\n",
              "      <td>4444.0</td>\n",
              "    </tr>\n",
              "  </tbody>\n",
              "</table>\n",
              "</div>"
            ],
            "text/plain": [
              "         primavera_copia  invierno  primavera\n",
              "cereza             333.0       NaN      333.0\n",
              "manzana            111.0     100.0      111.0\n",
              "naranja              NaN     300.0        NaN\n",
              "pera               222.0     200.0      222.0\n",
              "uva               4444.0       NaN     4444.0"
            ]
          },
          "metadata": {
            "tags": []
          },
          "execution_count": 30
        }
      ]
    },
    {
      "cell_type": "code",
      "metadata": {
        "id": "3GNtkd1X3ZHl"
      },
      "source": [
        ""
      ],
      "execution_count": null,
      "outputs": []
    }
  ]
}